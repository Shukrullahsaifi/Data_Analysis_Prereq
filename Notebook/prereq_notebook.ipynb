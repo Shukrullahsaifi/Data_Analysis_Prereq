{
 "cells": [
  {
   "cell_type": "code",
   "execution_count": 3,
   "id": "118312ec",
   "metadata": {},
   "outputs": [
    {
     "name": "stdout",
     "output_type": "stream",
     "text": [
      "9\n"
     ]
    }
   ],
   "source": [
    "x = 7\n",
    "y = 2\n",
    "z = x+y\n",
    "print(z)"
   ]
  },
  {
   "cell_type": "markdown",
   "id": "019447e8",
   "metadata": {},
   "source": [
    "Hi, this is Shukrullah Saifi and I am very excited to be part of the program. I graudated from UofL in 2023 with a master's degree in Business Analytics. I am looking forward to fosters my skills in data analysis and data driven decision making. Thank you for all the help and hardwork."
   ]
  }
 ],
 "metadata": {
  "kernelspec": {
   "display_name": ".venv",
   "language": "python",
   "name": "python3"
  },
  "language_info": {
   "codemirror_mode": {
    "name": "ipython",
    "version": 3
   },
   "file_extension": ".py",
   "mimetype": "text/x-python",
   "name": "python",
   "nbconvert_exporter": "python",
   "pygments_lexer": "ipython3",
   "version": "3.13.7"
  }
 },
 "nbformat": 4,
 "nbformat_minor": 5
}
